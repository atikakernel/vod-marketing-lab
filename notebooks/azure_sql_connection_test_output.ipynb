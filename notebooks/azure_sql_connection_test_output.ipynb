{
 "cells": [
  {
   "cell_type": "code",
   "execution_count": 1,
   "id": "c20592e7",
   "metadata": {
    "execution": {
     "iopub.execute_input": "2025-05-17T03:40:57.680496Z",
     "iopub.status.busy": "2025-05-17T03:40:57.680266Z",
     "iopub.status.idle": "2025-05-17T03:40:57.992194Z",
     "shell.execute_reply": "2025-05-17T03:40:57.991467Z"
    },
    "papermill": {
     "duration": 0.315065,
     "end_time": "2025-05-17T03:40:57.993174",
     "exception": false,
     "start_time": "2025-05-17T03:40:57.678109",
     "status": "completed"
    },
    "tags": [
     "parameters"
    ]
   },
   "outputs": [
    {
     "name": "stdout",
     "output_type": "stream",
     "text": [
      "Directorio de trabajo actual del kernel: /home/diegokernel/vod-marketing-lab\n",
      "Raíz del proyecto determinada como: /home/diegokernel/vod-marketing-lab\n",
      "Variables de entorno cargadas desde: /home/diegokernel/vod-marketing-lab/.env\n",
      "Módulo utils.db importado correctamente.\n",
      "Servidor Azure: vod-marketing-server.database.windows.net\n",
      "Base de Datos Azure: vod_marketing_db\n",
      "Usuario Azure: dbadmin\n",
      "Contraseña Azure LEÍDA POR OS.GETENV: '@Infernity1'\n"
     ]
    }
   ],
   "source": [
    "    # Celda 1: Importaciones y carga de variables de entorno desde .env\n",
    "    import os\n",
    "    import sys\n",
    "    import pandas as pd\n",
    "    import pyodbc\n",
    "    from dotenv import load_dotenv \n",
    "\n",
    "    # -------- CÓDIGO PARA CARGAR .env --------\n",
    "    # Imprime el directorio de trabajo actual para depuración\n",
    "    current_working_directory = os.getcwd()\n",
    "    print(f\"Directorio de trabajo actual del kernel: {current_working_directory}\")\n",
    "\n",
    "    # Asumimos que el archivo .env está en la RAÍZ del proyecto VOD-MARKETING-LAB\n",
    "    # Si el kernel se inicia en la carpeta 'notebooks', subimos un nivel.\n",
    "    # Si el kernel se inicia en la raíz del proyecto, no subimos.\n",
    "\n",
    "    # Intenta determinar la raíz del proyecto.\n",
    "    # Si el nombre de la carpeta actual es 'notebooks', asumimos que estamos dentro de ella.\n",
    "    if os.path.basename(current_working_directory) == 'notebooks':\n",
    "        project_root = os.path.abspath(os.path.join(current_working_directory, '..'))\n",
    "    else:\n",
    "        # Si no, asumimos que el CWD ya es la raíz del proyecto (o necesitamos ajustarlo)\n",
    "        project_root = current_working_directory \n",
    "        # Si sospechas que CWD no es la raíz, podrías hardcodear la ruta a la raíz del proyecto aquí\n",
    "        # como fallback, pero es mejor que el CWD sea predecible.\n",
    "        # Ejemplo de fallback (ajusta a tu estructura):\n",
    "        # project_root = \"/home/diegokernel/vod-marketing-lab\" \n",
    "\n",
    "    print(f\"Raíz del proyecto determinada como: {project_root}\")\n",
    "    \n",
    "    dotenv_path = os.path.join(project_root, '.env')\n",
    "\n",
    "    if os.path.exists(dotenv_path):\n",
    "        load_dotenv(dotenv_path=dotenv_path)\n",
    "        print(f\"Variables de entorno cargadas desde: {dotenv_path}\")\n",
    "    else:\n",
    "        print(f\"Archivo .env NO encontrado en: {dotenv_path}.\")\n",
    "        print(\"Asegúrate de que el archivo '.env' exista en la raíz de tu proyecto (ej. /home/diegokernel/vod-marketing-lab/.env)\")\n",
    "        print(\"Y que la 'Raíz del proyecto determinada como:' sea correcta.\")\n",
    "    # -------- FIN CÓDIGO PARA CARGAR .env --------\n",
    "\n",
    "    # Añadir la carpeta raíz del proyecto al sys.path para encontrar el módulo utils\n",
    "    # (Esta parte es para importar tu módulo utils.db)\n",
    "    if project_root not in sys.path:\n",
    "        sys.path.insert(0, project_root)\n",
    "\n",
    "    try:\n",
    "        from utils.db import get_sqlserver_conn\n",
    "        print(\"Módulo utils.db importado correctamente.\")\n",
    "    except ImportError as e:\n",
    "        print(f\"Error importando utils.db: {e}\")\n",
    "        print(f\"Buscando utils en sys.path que incluye: {project_root}\")\n",
    "    \n",
    "    # Obtener credenciales (ya deberían estar cargadas si .env funcionó)\n",
    "    azure_server = os.getenv(\"AZURE_SQL_SERVER\")\n",
    "    azure_database = os.getenv(\"AZURE_SQL_DATABASE\")\n",
    "    azure_user = os.getenv(\"AZURE_SQL_USER\")\n",
    "    azure_password = os.getenv(\"AZURE_SQL_PASSWORD\")\n",
    "\n",
    "    print(f\"Servidor Azure: {azure_server}\")\n",
    "    print(f\"Base de Datos Azure: {azure_database}\")\n",
    "    print(f\"Usuario Azure: {azure_user}\")\n",
    "    print(f\"Contraseña Azure LEÍDA POR OS.GETENV: '{azure_password}'\") # <--- AÑADE ESTE PRINT\n",
    "\n",
    "    "
   ]
  },
  {
   "cell_type": "code",
   "execution_count": 2,
   "id": "38684402",
   "metadata": {
    "execution": {
     "iopub.execute_input": "2025-05-17T03:40:57.996340Z",
     "iopub.status.busy": "2025-05-17T03:40:57.996079Z",
     "iopub.status.idle": "2025-05-17T03:41:00.215954Z",
     "shell.execute_reply": "2025-05-17T03:41:00.213171Z"
    },
    "papermill": {
     "duration": 2.225114,
     "end_time": "2025-05-17T03:41:00.219586",
     "exception": false,
     "start_time": "2025-05-17T03:40:57.994472",
     "status": "completed"
    },
    "tags": []
   },
   "outputs": [
    {
     "name": "stdout",
     "output_type": "stream",
     "text": [
      "Intentando conectar a Azure SQL: vod-marketing-server.database.windows.net...\n",
      "DEBUG utils.db: Cadena de conexión construida: DRIVER={ODBC Driver 18 for SQL Server};SERVER=vod-marketing-server.database.windows.net;DATABASE=vod_marketing_db;UID=dbadmin;PWD=********;Encrypt=yes;TrustServerCertificate=no;Connection Timeout=30;\n"
     ]
    },
    {
     "name": "stdout",
     "output_type": "stream",
     "text": [
      "¡Conexión a Azure SQL exitosa!\n",
      "Ejecutando consulta: SELECT TOP 5 TABLE_NAME, TABLE_SCHEMA, TABLE_TYPE FROM INFORMATION_SCHEMA.TABLES WHERE TABLE_TYPE = 'BASE TABLE';\n",
      "Resultados de la consulta:\n"
     ]
    },
    {
     "name": "stderr",
     "output_type": "stream",
     "text": [
      "/tmp/ipykernel_138385/1181772946.py:22: UserWarning: pandas only supports SQLAlchemy connectable (engine/connection) or database string URI or sqlite3 DBAPI2 connection. Other DBAPI2 objects are not tested. Please consider using SQLAlchemy.\n",
      "  df = pd.read_sql(query, conn)\n"
     ]
    },
    {
     "data": {
      "text/html": [
       "<div>\n",
       "<style scoped>\n",
       "    .dataframe tbody tr th:only-of-type {\n",
       "        vertical-align: middle;\n",
       "    }\n",
       "\n",
       "    .dataframe tbody tr th {\n",
       "        vertical-align: top;\n",
       "    }\n",
       "\n",
       "    .dataframe thead th {\n",
       "        text-align: right;\n",
       "    }\n",
       "</style>\n",
       "<table border=\"1\" class=\"dataframe\">\n",
       "  <thead>\n",
       "    <tr style=\"text-align: right;\">\n",
       "      <th></th>\n",
       "      <th>TABLE_NAME</th>\n",
       "      <th>TABLE_SCHEMA</th>\n",
       "      <th>TABLE_TYPE</th>\n",
       "    </tr>\n",
       "  </thead>\n",
       "  <tbody>\n",
       "    <tr>\n",
       "      <th>0</th>\n",
       "      <td>Orders</td>\n",
       "      <td>Sales</td>\n",
       "      <td>BASE TABLE</td>\n",
       "    </tr>\n",
       "    <tr>\n",
       "      <th>1</th>\n",
       "      <td>sales_orders</td>\n",
       "      <td>bronze</td>\n",
       "      <td>BASE TABLE</td>\n",
       "    </tr>\n",
       "    <tr>\n",
       "      <th>2</th>\n",
       "      <td>customers</td>\n",
       "      <td>bronze</td>\n",
       "      <td>BASE TABLE</td>\n",
       "    </tr>\n",
       "    <tr>\n",
       "      <th>3</th>\n",
       "      <td>marketing_campaigns</td>\n",
       "      <td>bronze</td>\n",
       "      <td>BASE TABLE</td>\n",
       "    </tr>\n",
       "  </tbody>\n",
       "</table>\n",
       "</div>"
      ],
      "text/plain": [
       "            TABLE_NAME TABLE_SCHEMA  TABLE_TYPE\n",
       "0               Orders        Sales  BASE TABLE\n",
       "1         sales_orders       bronze  BASE TABLE\n",
       "2            customers       bronze  BASE TABLE\n",
       "3  marketing_campaigns       bronze  BASE TABLE"
      ]
     },
     "metadata": {},
     "output_type": "display_data"
    },
    {
     "name": "stdout",
     "output_type": "stream",
     "text": [
      "Conexión a Azure SQL cerrada.\n"
     ]
    }
   ],
   "source": [
    "# Celda 2 (o siguiente celda): Conectar y ejecutar consulta\n",
    "conn = None\n",
    "if all([azure_server, azure_database, azure_user, azure_password]):\n",
    "    try:\n",
    "        print(f\"Intentando conectar a Azure SQL: {azure_server}...\")\n",
    "        conn = get_sqlserver_conn(\n",
    "            server=azure_server,\n",
    "            database=azure_database,\n",
    "            user=azure_user,\n",
    "            pwd=azure_password\n",
    "        )\n",
    "        print(\"¡Conexión a Azure SQL exitosa!\")\n",
    "\n",
    "        # IMPORTANTE: Reemplaza esta consulta con una que funcione para una tabla real\n",
    "        # que exista en tu base de datos Azure SQL (vod_marketing_db).\n",
    "        # Por ejemplo, si tienes una tabla llamada 'Clientes':\n",
    "        # query = \"SELECT TOP 5 * FROM dbo.Clientes;\"\n",
    "        # O para ver algunas tablas del sistema si no tienes tablas de usuario aún:\n",
    "        query = \"SELECT TOP 5 TABLE_NAME, TABLE_SCHEMA, TABLE_TYPE FROM INFORMATION_SCHEMA.TABLES WHERE TABLE_TYPE = 'BASE TABLE';\"\n",
    "        \n",
    "        print(f\"Ejecutando consulta: {query}\")\n",
    "        df = pd.read_sql(query, conn)\n",
    "        \n",
    "        print(\"Resultados de la consulta:\")\n",
    "        if not df.empty:\n",
    "            display(df) # 'display()' funciona bien en Jupyter para DataFrames\n",
    "        else:\n",
    "            print(\"La consulta no devolvió resultados.\")\n",
    "\n",
    "    except pyodbc.Error as ex:\n",
    "        sqlstate = ex.args[0]\n",
    "        print(f\"Error de pyodbc conectando o consultando Azure SQL: {sqlstate}\")\n",
    "        print(f\"Detalles del error: {ex}\")\n",
    "    except Exception as e:\n",
    "        print(f\"Ocurrió un error inesperado: {e}\")\n",
    "    finally:\n",
    "        if conn:\n",
    "            conn.close()\n",
    "            print(\"Conexión a Azure SQL cerrada.\")\n",
    "else:\n",
    "    print(\"Una o más variables de entorno para Azure SQL no están definidas. Verifica tu archivo .env o la configuración del entorno.\")\n",
    "    print(\"Asegúrate de haber ejecutado la celda anterior que carga las variables desde .env (si usas ese método).\")\n",
    "\n"
   ]
  }
 ],
 "metadata": {
  "kernelspec": {
   "display_name": ".venv",
   "language": "python",
   "name": "python3"
  },
  "language_info": {
   "codemirror_mode": {
    "name": "ipython",
    "version": 3
   },
   "file_extension": ".py",
   "mimetype": "text/x-python",
   "name": "python",
   "nbconvert_exporter": "python",
   "pygments_lexer": "ipython3",
   "version": "3.12.3"
  },
  "papermill": {
   "default_parameters": {},
   "duration": 4.333348,
   "end_time": "2025-05-17T03:41:00.548316",
   "environment_variables": {},
   "exception": null,
   "input_path": "/home/diegokernel/vod-marketing-lab/notebooks/azure_sql_connection_test.ipynb",
   "output_path": "/home/diegokernel/vod-marketing-lab/notebooks/azure_sql_connection_test_output.ipynb",
   "parameters": {},
   "start_time": "2025-05-17T03:40:56.214968",
   "version": "2.6.0"
  }
 },
 "nbformat": 4,
 "nbformat_minor": 5
}