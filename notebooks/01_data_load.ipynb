{
 "cells": [
  {
   "cell_type": "code",
   "execution_count": 1,
   "id": "7165c5cb",
   "metadata": {},
   "outputs": [
    {
     "name": "stdout",
     "output_type": "stream",
     "text": [
      "Requirement already satisfied: pandas in /home/diegokernel/vod-marketing-lab/.venv/lib/python3.12/site-packages (from -r ../requirements.txt (line 1)) (2.2.3)\n",
      "Requirement already satisfied: pyodbc in /home/diegokernel/vod-marketing-lab/.venv/lib/python3.12/site-packages (from -r ../requirements.txt (line 2)) (5.2.0)\n",
      "Requirement already satisfied: numpy>=1.26.0 in /home/diegokernel/vod-marketing-lab/.venv/lib/python3.12/site-packages (from pandas->-r ../requirements.txt (line 1)) (2.2.5)\n",
      "Requirement already satisfied: python-dateutil>=2.8.2 in /home/diegokernel/vod-marketing-lab/.venv/lib/python3.12/site-packages (from pandas->-r ../requirements.txt (line 1)) (2.9.0.post0)\n",
      "Requirement already satisfied: pytz>=2020.1 in /home/diegokernel/vod-marketing-lab/.venv/lib/python3.12/site-packages (from pandas->-r ../requirements.txt (line 1)) (2025.2)\n",
      "Requirement already satisfied: tzdata>=2022.7 in /home/diegokernel/vod-marketing-lab/.venv/lib/python3.12/site-packages (from pandas->-r ../requirements.txt (line 1)) (2025.2)\n",
      "Requirement already satisfied: six>=1.5 in /home/diegokernel/vod-marketing-lab/.venv/lib/python3.12/site-packages (from python-dateutil>=2.8.2->pandas->-r ../requirements.txt (line 1)) (1.17.0)\n",
      "Note: you may need to restart the kernel to use updated packages.\n"
     ]
    }
   ],
   "source": [
    "# Instala las librerías listadas en requirements.txt\n",
    "%pip install -r ../requirements.txt\n"
   ]
  },
  {
   "cell_type": "code",
   "execution_count": 3,
   "id": "5938725c",
   "metadata": {},
   "outputs": [
    {
     "name": "stdout",
     "output_type": "stream",
     "text": [
      "/home/diegokernel/vod-marketing-lab\n"
     ]
    }
   ],
   "source": [
    "# Mueve el cwd un nivel arriba (a la raíz del proyecto)\n",
    "%cd ..\n"
   ]
  },
  {
   "cell_type": "code",
   "execution_count": 4,
   "id": "5a76f5d4",
   "metadata": {},
   "outputs": [],
   "source": [
    "from utils.db import get_sqlserver_conn, load_table\n"
   ]
  },
  {
   "cell_type": "code",
   "execution_count": 5,
   "id": "84805ae2",
   "metadata": {},
   "outputs": [
    {
     "name": "stdout",
     "output_type": "stream",
     "text": [
      "Tabla Sales.Orders asegurada con datos de ejemplo.\n"
     ]
    }
   ],
   "source": [
    "# Celda: crear esquema y tabla de ejemplo si no existen\n",
    "from utils.db import get_sqlserver_conn\n",
    "\n",
    "SERVER   = 'vod-marketing-server.database.windows.net'\n",
    "DATABASE = 'vod_marketing_db'\n",
    "USER     = 'dbadmin'\n",
    "PWD      = '@Infernity1'\n",
    "\n",
    "conn = get_sqlserver_conn(SERVER, DATABASE, USER, PWD)\n",
    "cur = conn.cursor()\n",
    "\n",
    "# Crear el esquema y la tabla (silencioso si ya existen)\n",
    "cur.execute(\"\"\"\n",
    "IF NOT EXISTS (SELECT * FROM sys.schemas WHERE name = 'Sales')\n",
    "    EXEC('CREATE SCHEMA Sales');\n",
    "IF OBJECT_ID('Sales.Orders', 'U') IS NULL\n",
    "    CREATE TABLE Sales.Orders (\n",
    "        OrderID INT IDENTITY PRIMARY KEY,\n",
    "        CustomerName NVARCHAR(100),\n",
    "        Amount DECIMAL(10,2),\n",
    "        OrderDate DATETIME2\n",
    "    );\n",
    "\"\"\")\n",
    "\n",
    "# Insertar un par de filas de ejemplo (solo si la tabla está vacía)\n",
    "cur.execute(\"\"\"\n",
    "IF NOT EXISTS (SELECT * FROM Sales.Orders)\n",
    "INSERT INTO Sales.Orders (CustomerName, Amount, OrderDate)\n",
    "VALUES\n",
    "    ('Diego', 12.50,  GETDATE()),\n",
    "    ('Ana',    8.75,  GETDATE());\n",
    "\"\"\")\n",
    "\n",
    "conn.commit()\n",
    "cur.close()\n",
    "print(\"Tabla Sales.Orders asegurada con datos de ejemplo.\")\n"
   ]
  },
  {
   "cell_type": "code",
   "execution_count": 6,
   "id": "9e3fd77b",
   "metadata": {},
   "outputs": [
    {
     "name": "stderr",
     "output_type": "stream",
     "text": [
      "/home/diegokernel/vod-marketing-lab/utils/db.py:13: UserWarning: pandas only supports SQLAlchemy connectable (engine/connection) or database string URI or sqlite3 DBAPI2 connection. Other DBAPI2 objects are not tested. Please consider using SQLAlchemy.\n",
      "  return pd.read_sql(query, conn)\n"
     ]
    },
    {
     "data": {
      "text/html": [
       "<div>\n",
       "<style scoped>\n",
       "    .dataframe tbody tr th:only-of-type {\n",
       "        vertical-align: middle;\n",
       "    }\n",
       "\n",
       "    .dataframe tbody tr th {\n",
       "        vertical-align: top;\n",
       "    }\n",
       "\n",
       "    .dataframe thead th {\n",
       "        text-align: right;\n",
       "    }\n",
       "</style>\n",
       "<table border=\"1\" class=\"dataframe\">\n",
       "  <thead>\n",
       "    <tr style=\"text-align: right;\">\n",
       "      <th></th>\n",
       "      <th>OrderID</th>\n",
       "      <th>CustomerName</th>\n",
       "      <th>Amount</th>\n",
       "      <th>OrderDate</th>\n",
       "    </tr>\n",
       "  </thead>\n",
       "  <tbody>\n",
       "    <tr>\n",
       "      <th>0</th>\n",
       "      <td>1</td>\n",
       "      <td>Diego</td>\n",
       "      <td>12.50</td>\n",
       "      <td>2025-05-14 05:33:19.656666</td>\n",
       "    </tr>\n",
       "    <tr>\n",
       "      <th>1</th>\n",
       "      <td>2</td>\n",
       "      <td>Ana</td>\n",
       "      <td>8.75</td>\n",
       "      <td>2025-05-14 05:33:19.656666</td>\n",
       "    </tr>\n",
       "  </tbody>\n",
       "</table>\n",
       "</div>"
      ],
      "text/plain": [
       "   OrderID CustomerName  Amount                  OrderDate\n",
       "0        1        Diego   12.50 2025-05-14 05:33:19.656666\n",
       "1        2          Ana    8.75 2025-05-14 05:33:19.656666"
      ]
     },
     "execution_count": 6,
     "metadata": {},
     "output_type": "execute_result"
    }
   ],
   "source": [
    "conn = get_sqlserver_conn(SERVER, DATABASE, USER, PWD)\n",
    "df  = load_table(conn, 'Sales.Orders',top_n=5)\n",
    "df.head()\n"
   ]
  }
 ],
 "metadata": {
  "kernelspec": {
   "display_name": ".venv",
   "language": "python",
   "name": "python3"
  },
  "language_info": {
   "codemirror_mode": {
    "name": "ipython",
    "version": 3
   },
   "file_extension": ".py",
   "mimetype": "text/x-python",
   "name": "python",
   "nbconvert_exporter": "python",
   "pygments_lexer": "ipython3",
   "version": "3.12.3"
  }
 },
 "nbformat": 4,
 "nbformat_minor": 5
}
